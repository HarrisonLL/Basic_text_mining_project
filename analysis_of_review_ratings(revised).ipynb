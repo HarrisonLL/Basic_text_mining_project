{
 "cells": [
  {
   "cell_type": "code",
   "execution_count": 5,
   "metadata": {},
   "outputs": [],
   "source": [
    "import pandas as pd\n",
    "import numpy as np\n",
    "import random \n",
    "import re                                        ## regular expression \n",
    "import nltk\n",
    "\n",
    "from nltk.corpus import stopwords                ## stopwords\n",
    "from nltk.tokenize import word_tokenize          ## tokenize words\n",
    "from nltk.stem import WordNetLemmatizer          ## lemmatize words\n",
    "\n",
    "\n",
    "import imblearn                                  ## oversampling\n",
    "import imblearn.over_sampling\n",
    "from imblearn.over_sampling import SMOTE\n",
    "\n",
    "import sklearn\n",
    "from sklearn.ensemble import RandomForestClassifier## randomforest\n",
    "from sklearn.metrics import confusion_matrix                \n",
    "from sklearn.model_selection import train_test_split\n",
    "\n",
    "import seaborn as sns                            ## heatmap\n",
    "import matplotlib.pyplot as plt                  ## ploting"
   ]
  },
  {
   "cell_type": "code",
   "execution_count": 6,
   "metadata": {},
   "outputs": [],
   "source": [
    "### read csv and drop none records and duplicate apps in df1\n",
    "### merge df1 and df2\n",
    "df1 = pd.read_csv(\"googleplaystore.csv\")\n",
    "df1 = df1.dropna()\n",
    "df1 = df1.drop_duplicates(subset='App')\n",
    "df2 = pd.read_csv(\"googleplaystore_user_reviews.csv\")\n",
    "df2 = df2.dropna()"
   ]
  },
  {
   "cell_type": "code",
   "execution_count": 7,
   "metadata": {},
   "outputs": [],
   "source": [
    "idx_i = pd.Index(set(df1['App']))\n",
    "idx_ii = pd.Index(set(df2['App']))\n",
    "intersec = sorted(list(idx_ii.intersection(idx_i)))"
   ]
  },
  {
   "cell_type": "code",
   "execution_count": 8,
   "metadata": {},
   "outputs": [],
   "source": [
    "checkrows = []\n",
    "for i,r in df2.iterrows() :\n",
    "    if r['App'] in intersec: \n",
    "        checkrows.append(True)\n",
    "    else: \n",
    "        checkrows.append(False)\n",
    "new_table = df2[checkrows]\n",
    "new_table = pd.merge(new_table, df1, on=\"App\")"
   ]
  },
  {
   "cell_type": "code",
   "execution_count": 9,
   "metadata": {},
   "outputs": [
    {
     "name": "stdout",
     "output_type": "stream",
     "text": [
      "2.6\n",
      "4.9\n",
      "4.3\n"
     ]
    },
    {
     "data": {
      "text/plain": [
       "(array([   96.,    63.,   159.,   627.,   804.,  2312.,  9220., 10502.,\n",
       "         9402.,  2744.]),\n",
       " array([2.6 , 2.83, 3.06, 3.29, 3.52, 3.75, 3.98, 4.21, 4.44, 4.67, 4.9 ]),\n",
       " <a list of 10 Patch objects>)"
      ]
     },
     "execution_count": 9,
     "metadata": {},
     "output_type": "execute_result"
    },
    {
     "data": {
      "image/png": "[encoded data removed]",
      "text/plain": [
       "<Figure size 432x288 with 1 Axes>"
      ]
     },
     "metadata": {
      "needs_background": "light"
     },
     "output_type": "display_data"
    }
   ],
   "source": [
    "### examine distribution of ratings:\n",
    "print(pd.DataFrame.min(new_table['Rating']))\n",
    "print(pd.DataFrame.max(new_table['Rating']))\n",
    "print(pd.DataFrame.median(new_table['Rating']))\n",
    "plt.figure\n",
    "plt.grid()\n",
    "plt.hist(new_table['Rating'])"
   ]
  },
  {
   "cell_type": "code",
   "execution_count": null,
   "metadata": {},
   "outputs": [],
   "source": []
  },
  {
   "cell_type": "code",
   "execution_count": 11,
   "metadata": {
    "scrolled": true
   },
   "outputs": [],
   "source": [
    "### Round up ratings\n",
    "### Since the data is skewed,\n",
    "### I decided to change the problem to classification problem. \n",
    "### I partitioned ratings by assigning [2.6,3.6) to 3, [3.6,4.5) to 4, and [4.5, 5.0) to 5.0\n",
    "### which is just shift the 3.5 bound in round() method to 3.6.\n",
    "midpoint1 = 3.6\n",
    "midpoint2 = 4.5\n",
    "# new_table.reset_index(inplace=True)\n",
    "labels = []\n",
    "for i,r in new_table.iterrows() :\n",
    "    temp = r[\"Rating\"]\n",
    "    if  temp < midpoint1: \n",
    "        labels.append(\"3.0\")\n",
    "    elif midpoint1 <= temp and temp < midpoint2: \n",
    "        labels.append(\"4.0\")\n",
    "    elif midpoint1 <= temp and temp < 5.0: \n",
    "        labels.append(\"5.0\")\n",
    "        \n",
    "\n",
    "new_table[\"label Rating\"] = labels"
   ]
  },
  {
   "cell_type": "code",
   "execution_count": 12,
   "metadata": {
    "scrolled": true
   },
   "outputs": [
    {
     "data": {
      "text/plain": [
       "(array([22838.,     0.,     0.,     0.,     0., 12146.,     0.,     0.,\n",
       "            0.,   945.]),\n",
       " array([0. , 0.2, 0.4, 0.6, 0.8, 1. , 1.2, 1.4, 1.6, 1.8, 2. ]),\n",
       " <a list of 10 Patch objects>)"
      ]
     },
     "execution_count": 12,
     "metadata": {},
     "output_type": "execute_result"
    },
    {
     "data": {
      "image/png": "[encoded data removed]",
      "text/plain": [
       "<Figure size 432x288 with 1 Axes>"
      ]
     },
     "metadata": {
      "needs_background": "light"
     },
     "output_type": "display_data"
    }
   ],
   "source": [
    "plt.hist(labels)"
   ]
  },
  {
   "cell_type": "code",
   "execution_count": 13,
   "metadata": {},
   "outputs": [
    {
     "name": "stdout",
     "output_type": "stream",
     "text": [
      "total numbers of apps: 816\n",
      "total numbers of reviews: 35929\n",
      "round up ratings: {'4.0', '5.0', '3.0'}\n"
     ]
    }
   ],
   "source": [
    "print(\"total numbers of apps: \" + str(len(intersec)))\n",
    "print(\"total numbers of reviews: \" + str(len(new_table)))\n",
    "print(\"round up ratings: \" + str(set(labels)))"
   ]
  },
  {
   "cell_type": "code",
   "execution_count": null,
   "metadata": {},
   "outputs": [],
   "source": [
    "######################################### data preprocessing ######################################### "
   ]
  },
  {
   "cell_type": "code",
   "execution_count": 84,
   "metadata": {},
   "outputs": [],
   "source": [
    "data = new_table.copy()\n",
    "num_reviews = len(data)\n",
    "    "
   ]
  },
  {
   "cell_type": "code",
   "execution_count": 85,
   "metadata": {},
   "outputs": [],
   "source": [
    "## step 1: text cleaning\n",
    "\n",
    "## tokenize words\n",
    "## remove stop words\n",
    "## lemmatize words\n",
    "## correct punctuation\n",
    "## remove non-English words and single letter \n",
    "\n",
    "stop_words = set(nltk.corpus.stopwords.words('english')) \n",
    "English_words = set(nltk.corpus.words.words())\n",
    "\n",
    "\n",
    "\n",
    "def reduce_lengthening(text):\n",
    "    pattern = re.compile(r\"(.)\\1{2,}\")\n",
    "    reduced_word1 = pattern.sub(r\"\\1\\1\", text)\n",
    "    if reduced_word1 in English_words:   ## words like: \"allll\"\n",
    "        return reduced_word1\n",
    "    else:                                ## words like: \"wayyyyy\"\n",
    "        return pattern.sub(r\"\\1\", text)\n"
   ]
  },
  {
   "cell_type": "code",
   "execution_count": 86,
   "metadata": {},
   "outputs": [],
   "source": [
    "from nltk.stem import WordNetLemmatizer \n",
    "\n",
    "WNL = WordNetLemmatizer() \n",
    "WNL.lemmatize(\"better\", pos =\"a\")\n",
    "\n",
    "text_list=[]\n",
    "for i in data.Translated_Review:\n",
    "    text = re.sub(\"[^a-zA-Z]\",\" \",i)\n",
    "    text = text.lower()\n",
    "    text = nltk.word_tokenize(text)\n",
    "    text = [w for w in text if not w in stop_words] \n",
    "    new_text = []\n",
    "    for w in text:\n",
    "        w1 = WNL.lemmatize(w, pos = \"n\")\n",
    "        w1 = WNL.lemmatize(w1, pos =\"v\")\n",
    "        w1 = WNL.lemmatize(w1, pos =\"a\")\n",
    "        w1 = reduce_lengthening(w1) ## correct punctuation             \n",
    "        if w1 in English_words:     ## check if it is an English word\n",
    "            new_text.append(w1)\n",
    "    text=\" \".join([w for w in new_text if len(w)>1]) \n",
    "    text_list.append(text)"
   ]
  },
  {
   "cell_type": "code",
   "execution_count": 87,
   "metadata": {},
   "outputs": [],
   "source": [
    "## step 2: construct a TF_IDF matrix \n",
    "\n",
    "## input param: word: string; text: list of string; allWordDict: dictionary of all words with num of documents\n",
    "## output param: TF_IDF value\n",
    "## the function assign highest value to high frequent words in a setence but has low frequency in corpus \n",
    "## assign lower value to low frequent words in a setence or words with high frequency in corpus \n",
    "## assign lowest value to high frequent words in a setence with high frequency in corpus \n",
    "## thus the method distinguish high frequent words in some setences and also reduce most common words\n",
    "\n",
    "def TF_IDF(word, text, allWordDict) :\n",
    "    wordCT = 0.\n",
    "    textLen = len(text)\n",
    "    for i in range(textLen) :\n",
    "        if text[i] == word:\n",
    "            wordCT += 1.\n",
    "    TF = wordCT / textLen\n",
    "    occur = allWordDict[word]\n",
    "    IDF = np.log(float(num_reviews)/occur)\n",
    "    return TF*IDF\n"
   ]
  },
  {
   "cell_type": "code",
   "execution_count": 88,
   "metadata": {},
   "outputs": [],
   "source": [
    "## construct a word dictionary: word as key, num_documents as value (11/6)\n",
    "unsortedDict = {}\n",
    "for text in text_list:\n",
    "    doc_i = text.split(\" \")\n",
    "    doc_i = list(set(doc_i))\n",
    "    for word in doc_i:\n",
    "        if word not in unsortedDict: unsortedDict[word] = 1\n",
    "        else : unsortedDict[word] += 1\n",
    "tupleList = sorted(unsortedDict.items(), key=lambda x:(-x[1],x[0]))\n",
    "allWordDict = {item[0]: item[1] for item in tupleList}\n"
   ]
  },
  {
   "cell_type": "code",
   "execution_count": 89,
   "metadata": {},
   "outputs": [],
   "source": [
    "## TFIDF matrix\n",
    "TFIDF = np.zeros((num_reviews, len(allWordDict)))\n",
    "\n",
    "temp = []\n",
    "for i,v1 in enumerate(text_list) : \n",
    "    doc_i = text_list[i].split(\" \")\n",
    "    for word in doc_i:\n",
    "        freq = TF_IDF(word, doc_i, allWordDict)\n",
    "        temp.append(freq)\n",
    "        j = list(allWordDict.keys()).index(word)\n",
    "        TFIDF[i,j] = freq"
   ]
  },
  {
   "cell_type": "code",
   "execution_count": 90,
   "metadata": {},
   "outputs": [],
   "source": [
    "## sum up columns: use highest 1000 value for prediction \n",
    "colSum = TFIDF.sum(axis = 0)\n",
    "allTerms = list(allWordDict.keys())\n",
    "unsortedTerms = {}\n",
    "for i,v in enumerate(colSum) :\n",
    "    unsortedTerms[allTerms[i]] = v \n",
    "tupleList = sorted(unsortedTerms.items(), key=lambda x:(-x[1],x[0]))        \n",
    "frequentTerm = {item[0]: item[1] for item in tupleList}\n",
    "del(frequentTerm[''])\n",
    "attrName = list(frequentTerm.keys())[:1000]\n",
    "\n",
    "col_idices = []\n",
    "\n",
    "for i in range(len(attrName)) :\n",
    "    idx = allTerms.index(attrName[i])\n",
    "    col_idices.append(idx)\n",
    "\n",
    "x = np.zeros(shape=(num_reviews, len(attrName)))\n",
    "for i,v in enumerate(col_idices) :\n",
    "    x[:, i] = TFIDF[:, v]"
   ]
  },
  {
   "cell_type": "code",
   "execution_count": null,
   "metadata": {},
   "outputs": [],
   "source": [
    "######################################### model fitting and training ######################################### "
   ]
  },
  {
   "cell_type": "code",
   "execution_count": 93,
   "metadata": {},
   "outputs": [],
   "source": [
    "y = new_table['label Rating'].values\n",
    "xtrain, xtest, ytrain, ytest = train_test_split(x,y,test_size = 0.2,random_state = 1)\n",
    "\n",
    "###  ---- resampling ----  ###\n",
    "\n",
    "## explanation: \n",
    "## Since the package does not allow to choose the resample size for minority class and it will generate samples as many as label '4.0', \n",
    "## I will remove label '4.0' when resampling so that the sampling size of '3.0' will be the same as '5.0'.\n",
    "## Therefore, the predictive power of the model will be balanced without harming prediction in '5.0'\n",
    "\n",
    "idices4 = np.where(ytrain=='4.0')[0]\n",
    "idices_keep = np.setdiff1d(range(len(ytrain)), idices4)\n",
    "xtrain_new = []\n",
    "ytrain_new = []\n",
    "for idx in idices_keep:\n",
    "    xtrain_new.append(xtrain[idx])\n",
    "    ytrain_new.append(ytrain[idx])\n",
    "xtrain_4 = []\n",
    "ytrain_4 = []\n",
    "for idx in idices4:\n",
    "    xtrain_4.append(xtrain[idx])\n",
    "    ytrain_4.append(ytrain[idx])\n",
    "    \n",
    "xtrain_new = np.array(xtrain_new)\n",
    "ytrain_new = np.array(ytrain_new)   \n",
    "xtrain_4 = np.array(xtrain_4)\n",
    "ytrain_4 = np.array(ytrain_4)   \n",
    "    \n",
    "### 1. The first method is to use SMOTE to resample data \n",
    "seed = 100\n",
    "smote = SMOTE(k_neighbors=10, random_state=seed)\n",
    "x_resampled, y_resampled = smote.fit_sample(xtrain_new, ytrain_new)\n",
    "x_resampled = np.concatenate((x_resampled, xtrain_4))\n",
    "y_resampled = np.concatenate((y_resampled, ytrain_4))\n"
   ]
  },
  {
   "cell_type": "code",
   "execution_count": 94,
   "metadata": {},
   "outputs": [
    {
     "name": "stdout",
     "output_type": "stream",
     "text": [
      "acc:  0.7561925967158364\n"
     ]
    },
    {
     "data": {
      "text/plain": [
       "[Text(0, 0.5, '3'), Text(0, 1.5, '4'), Text(0, 2.5, '5')]"
      ]
     },
     "execution_count": 94,
     "metadata": {},
     "output_type": "execute_result"
    },
    {
     "data": {
      "image/png": "[encoded data removed]",
      "text/plain": [
       "<Figure size 360x360 with 2 Axes>"
      ]
     },
     "metadata": {
      "needs_background": "light"
     },
     "output_type": "display_data"
    }
   ],
   "source": [
    "rf = RandomForestClassifier(n_estimators = 30, random_state=42)\n",
    "rf.fit(x_resampled,y_resampled)\n",
    "print(\"acc: \",rf.score(xtest,ytest))\n",
    "y_pred=rf.predict(xtest)\n",
    "\n",
    "names = ['3','4','5']\n",
    "cm = confusion_matrix(ytest,y_pred)\n",
    "f,ax = plt.subplots(figsize = (5,5))\n",
    "cmplot0 = sns.heatmap(cm,annot = True,linewidth =.5,linecolor = \"r\",fmt = \".0f\",ax=ax)\n",
    "plt.xlabel(\"y_pred\")\n",
    "plt.ylabel(\"y_true\")\n",
    "ax.set_xticklabels(names)\n",
    "ax.set_yticklabels(names)"
   ]
  },
  {
   "cell_type": "code",
   "execution_count": null,
   "metadata": {},
   "outputs": [],
   "source": []
  },
  {
   "cell_type": "code",
   "execution_count": 95,
   "metadata": {},
   "outputs": [],
   "source": [
    "## 2. second method is to use Random Repeated Resampling to resample \"3.0\"\n"
   ]
  },
  {
   "cell_type": "code",
   "execution_count": 96,
   "metadata": {},
   "outputs": [
    {
     "name": "stdout",
     "output_type": "stream",
     "text": [
      "acc:  0.7541052045644309\n"
     ]
    },
    {
     "data": {
      "text/plain": [
       "[Text(0, 0.5, '3'), Text(0, 1.5, '4'), Text(0, 2.5, '5')]"
      ]
     },
     "execution_count": 96,
     "metadata": {},
     "output_type": "execute_result"
    },
    {
     "data": {
      "image/png": "[encoded data removed]",
      "text/plain": [
       "<Figure size 360x360 with 2 Axes>"
      ]
     },
     "metadata": {
      "needs_background": "light"
     },
     "output_type": "display_data"
    }
   ],
   "source": [
    "y = new_table[\"label Rating\"].values\n",
    "xtrain, xtest, ytrain, ytest = train_test_split(x,y,test_size = 0.2,random_state = 1)\n",
    "\n",
    "###  ---- resampling ----  ###\n",
    "## Explanation: \n",
    "## Resample xtrain ytrain with label \"3.0\" so that the ratio of \"3.0\" label to total training set is 35 percent \n",
    "\n",
    "\n",
    "x_rating3 = []\n",
    "for i,v in enumerate(xtrain):\n",
    "    if ytrain[i] == '3.0':\n",
    "        x_rating3.append(v)\n",
    "\n",
    "length =  int(len(xtrain)*(0.35)-len(x_rating3))\n",
    "\n",
    "resample_x = [None]*length\n",
    "resample_y = ['3.0']*length\n",
    "idices = list(range(0,len(x_rating3)))\n",
    "for i in range(length):\n",
    "    idx = random.choice(idices)\n",
    "    resample_x[i] = x_rating3[idx]\n",
    "\n",
    "xtrain = np.concatenate((xtrain, resample_x))\n",
    "ytrain = np.concatenate((ytrain, resample_y))  \n",
    "\n",
    "###  ---- model fitting ----  ###\n",
    "rf = RandomForestClassifier(n_estimators = 30, random_state=42)\n",
    "rf.fit(xtrain,ytrain)\n",
    "print(\"acc: \",rf.score(xtest,ytest))\n",
    "y_pred=rf.predict(xtest)\n",
    "\n",
    "names = ['3','4','5']\n",
    "cm = confusion_matrix(ytest,y_pred)\n",
    "f,ax = plt.subplots(figsize = (5,5))\n",
    "cmplot = sns.heatmap(cm,annot = True,linewidth =.5,linecolor = \"r\",fmt = \".0f\",ax=ax)\n",
    "plt.xlabel(\"y_pred\")\n",
    "plt.ylabel(\"y_true\")\n",
    "ax.set_xticklabels(names)\n",
    "ax.set_yticklabels(names)\n"
   ]
  },
  {
   "cell_type": "code",
   "execution_count": 22,
   "metadata": {},
   "outputs": [],
   "source": [
    "\n"
   ]
  },
  {
   "cell_type": "code",
   "execution_count": 23,
   "metadata": {},
   "outputs": [],
   "source": [
    "######################################### Feature selection improvements ######################################### \n",
    "## Using Lasso to improve feature selection \n"
   ]
  },
  {
   "cell_type": "code",
   "execution_count": 98,
   "metadata": {},
   "outputs": [
    {
     "name": "stderr",
     "output_type": "stream",
     "text": [
      "/Users/harrisonlee/anaconda3/lib/python3.6/site-packages/sklearn/linear_model/sag.py:337: ConvergenceWarning: The max_iter was reached which means the coef_ did not converge\n",
      "  \"the coef_ did not converge\", ConvergenceWarning)\n"
     ]
    },
    {
     "data": {
      "text/plain": [
       "SelectFromModel(estimator=LogisticRegression(C=1, class_weight=None, dual=False,\n",
       "                                             fit_intercept=True,\n",
       "                                             intercept_scaling=1, l1_ratio=None,\n",
       "                                             max_iter=100,\n",
       "                                             multi_class='multinomial',\n",
       "                                             n_jobs=None, penalty='l1',\n",
       "                                             random_state=None, solver='saga',\n",
       "                                             tol=0.0001, verbose=0,\n",
       "                                             warm_start=False),\n",
       "                max_features=1000, norm_order=1, prefit=False, threshold=None)"
      ]
     },
     "execution_count": 98,
     "metadata": {},
     "output_type": "execute_result"
    }
   ],
   "source": [
    "\n",
    "from sklearn.model_selection import train_test_split\n",
    "from sklearn.linear_model import Lasso, LogisticRegression\n",
    "from sklearn.feature_selection import SelectFromModel\n",
    "\n",
    "y = new_table[\"label Rating\"].values\n",
    "xtrain, xtest, ytrain, ytest = train_test_split(TFIDF,y,test_size = 0.2,random_state = 1)\n",
    "\n",
    "sel_ = SelectFromModel(LogisticRegression(C=1, solver='saga',multi_class= 'multinomial', penalty='l1'), max_features=1000)\n",
    "sel_.fit(xtrain, ytrain)\n"
   ]
  },
  {
   "cell_type": "code",
   "execution_count": 99,
   "metadata": {},
   "outputs": [],
   "source": [
    "arr = sel_.get_support()\n",
    "length = 1000\n",
    "num_xtrain = len(xtrain)\n",
    "num_xtest = len(xtest)\n",
    "new_xtrain = np.zeros((num_xtrain,length))\n",
    "new_xtest = np.zeros((num_xtest, length))\n",
    "\n",
    "j = 0\n",
    "for i,v in enumerate(arr) :\n",
    "    if v==True:\n",
    "        new_xtrain[:, j] = xtrain[:, i]\n",
    "        new_xtest[:, j] = xtest[:, i]\n",
    "        j+=1\n"
   ]
  },
  {
   "cell_type": "code",
   "execution_count": 100,
   "metadata": {},
   "outputs": [
    {
     "name": "stdout",
     "output_type": "stream",
     "text": [
      "acc:  0.7339270804341775\n"
     ]
    },
    {
     "data": {
      "image/png": "[encoded data removed]",
      "text/plain": [
       "<Figure size 360x360 with 2 Axes>"
      ]
     },
     "metadata": {
      "needs_background": "light"
     },
     "output_type": "display_data"
    }
   ],
   "source": [
    "\n",
    "idices4 = np.where(ytrain=='4.0')[0]\n",
    "idices_keep = np.setdiff1d(range(len(ytrain)), idices4)\n",
    "xtrain_new = []\n",
    "ytrain_new = []\n",
    "for idx in idices_keep:\n",
    "    xtrain_new.append(new_xtrain[idx])\n",
    "    ytrain_new.append(ytrain[idx])\n",
    "xtrain_4 = []\n",
    "ytrain_4 = []\n",
    "for idx in idices4:\n",
    "    xtrain_4.append(new_xtrain[idx])\n",
    "    ytrain_4.append(ytrain[idx])\n",
    "    \n",
    "xtrain_new = np.array(xtrain_new)\n",
    "ytrain_new = np.array(ytrain_new)   \n",
    "xtrain_4 = np.array(xtrain_4)\n",
    "ytrain_4 = np.array(ytrain_4)   \n",
    "    \n",
    "### ---- SMOTE resampling ---- ### \n",
    "seed = 100\n",
    "smote = SMOTE(k_neighbors=10, random_state=seed)\n",
    "x_resampled, y_resampled = smote.fit_sample(xtrain_new, ytrain_new)\n",
    "x_resampled = np.concatenate((x_resampled, xtrain_4))\n",
    "y_resampled = np.concatenate((y_resampled, ytrain_4))\n",
    "\n",
    "        \n",
    "\n",
    "###  ---- model fitting ---- ### \n",
    "  \n",
    "rf = RandomForestClassifier(n_estimators = 30, random_state=42)\n",
    "rf.fit(x_resampled,y_resampled)\n",
    "print(\"acc: \",rf.score(new_xtest,ytest))\n",
    "y_pred=rf.predict(new_xtest)\n",
    "\n",
    "names = ['3','4','5']\n",
    "cm = confusion_matrix(ytest,y_pred)\n",
    "f,ax = plt.subplots(figsize = (5,5))\n",
    "sns.heatmap(cm,annot = True,linewidth =.5,linecolor = \"r\",fmt = \".0f\",ax=ax)\n",
    "plt.xlabel(\"y_pred\")\n",
    "plt.ylabel(\"y_true\")\n",
    "ax.set_xticklabels(names)\n",
    "ax.set_yticklabels(names)\n",
    "plt.show()\n",
    "\n",
    "\n",
    "\n"
   ]
  },
  {
   "cell_type": "code",
   "execution_count": null,
   "metadata": {},
   "outputs": [],
   "source": []
  },
  {
   "cell_type": "markdown",
   "metadata": {},
   "source": [
    "# Report\n",
    "\n",
    "The dataset contains 35929 reviews and 816 distinct apps after I join the two tables. The distribution of the ratings does not appear to be normal, and thus I categorized the data to 3 categories: ratings with 3, 4 and 5. The graph of distribution can be viewed by the code above. \n",
    "\n",
    "1. Data preprocessing:\n",
    "\n",
    "Step1:\n",
    "I cleaned the text by a sequence of steps often implemented in text mining. First, I tockenize all words, removed all stop words, then lemmatize words, corrected punctuation by reducing length of words, and finally checked if the word appears in nltk word dictionary. These steps removed some common words such as \"a\" and \"the\", lemmatized words into base form, and also corrected some punctuations of words such as \"wayyyyyy\" and \"alllllll\". The numbers of words across the corpus was reduced to 8385. \n",
    "\n",
    "Step2:\n",
    "Then the text was converted to a term-frequency-inverse-document-frequency(TFIDF) matrix and reduced its dimensionality by ranking for each term. The reason that I chosed the TFIDF model is due to the fact that the model introduces a weighting, the second half of the formula, to penalize frequent words appearing across the corpus. In theory, the method will distinguish high frequent words in some setences and also reduce importance for most common words. Details of the function could be viewed in the code comment above. The final input matrix, therefore, was in a shape of 35929 * 1000.\n",
    "\n",
    "2. Training and testing model:\n",
    "\n",
    "Since the model is still highly imbalanced after categorizing each rating (data with label \"3.0\" is around 3%), I used two methods in imbalanced learning to train the model. The first method is Synthetic Minority Over-sampling Technique (SMOTE), which generates samples according to the k-nearest neighbor of each minority data point: x_new = x_i + lambda*(x_neighbor - x_i). The second method is random resample with replacement. After the generation of resampled data, the ratio of numbers of data with label \"3.0\" to total amount of data in the training set is 34.8%, which appears to be balanced. The result of random forest model proved this, the prediction accuracy for label \"3.0\" was highest for the SMOTE method (22.2%), followed by the random resample method (19.4%). By resampling, the result was improved by 5-7 percent (the result without resampling is not shown in the code). The average prediction accuracy of two method is around 75.5%. \n",
    "\n",
    "3. Improving feature selection and result:\n",
    "\n",
    "Last part of this project is implementing LASSO Regression to improve feature selection. Lasso regression adds an penalty term to Residual Sum of Square, applying over the coeffcients. It has the ability to shrink some coefficient to zeros, thus improving feature selection. Here, I selected 1000 features out of 8385, which is the same amount as above (the one simply sums rows of TF-IDF matrix). Despite the final accuracy was dropped, the accuracies of label \"3.0\" and \"5.0\" were increased to 27.22% and 49.74% respectively. \n",
    "\n",
    "\n",
    "4. Discussion:\n",
    "\n",
    "The data in the joined dataset was not evenly distributed originally, challenging me to search for different methods to boost the result. Overall, 4 additional methods apart from the random forest were implemented. They are TFIDF matrix, SMOTE, random resampling with replacement and LASSO regression. The overall prediction is around 75%. SMOTE and simple random resampling increase the prediction accuracy of label \"3.0\" by 5 percent, and LASSO improves the feature selection which boosts the accuracy of label \"3.0\" by 5 percent. \n",
    "\n",
    "\n",
    "reference:\n",
    "\n",
    "TFIDF:\n",
    "https://nlp.stanford.edu/IR-book/html/htmledition/tf-idf-weighting-1.html\n",
    "https://en.wikipedia.org/wiki/Tf%E2%80%93idf\n",
    "\n",
    "\n",
    "SMOTE oversampling and random resampling:\n",
    "https://imbalanced-learn.readthedocs.io/en/stable/over_sampling.html\n",
    "\n",
    "\n",
    "\n"
   ]
  },
  {
   "cell_type": "code",
   "execution_count": null,
   "metadata": {},
   "outputs": [],
   "source": []
  },
  {
   "cell_type": "code",
   "execution_count": null,
   "metadata": {},
   "outputs": [],
   "source": []
  }
 ],
 "metadata": {
  "kernelspec": {
   "display_name": "Python 3",
   "language": "python",
   "name": "python3"
  },
  "language_info": {
   "codemirror_mode": {
    "name": "ipython",
    "version": 3
   },
   "file_extension": ".py",
   "mimetype": "text/x-python",
   "name": "python",
   "nbconvert_exporter": "python",
   "pygments_lexer": "ipython3",
   "version": "3.6.8"
  }
 },
 "nbformat": 4,
 "nbformat_minor": 2
}
